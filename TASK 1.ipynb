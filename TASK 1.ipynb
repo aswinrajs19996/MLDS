{
 "cells": [
  {
   "cell_type": "code",
   "execution_count": null,
   "id": "4cfdcc18",
   "metadata": {},
   "outputs": [],
   "source": [
    "# import necessary libraries\n",
    "import pandas as pd\n",
    "import numpy as np\n",
    "import seaborn as sns\n",
    "import matplotlib.pyplot as plt"
   ]
  },
  {
   "cell_type": "code",
   "execution_count": null,
   "id": "9666fcd7",
   "metadata": {},
   "outputs": [],
   "source": [
    "# load the dataset\n",
    "df=pd.read_csv(\"house_price.csv\")\n",
    "df"
   ]
  },
  {
   "cell_type": "code",
   "execution_count": null,
   "id": "b6070aa5",
   "metadata": {},
   "outputs": [],
   "source": [
    "# check the information about the dataframe\n",
    "df.info()"
   ]
  },
  {
   "cell_type": "code",
   "execution_count": null,
   "id": "7d832c69",
   "metadata": {},
   "outputs": [],
   "source": [
    "# summary statistics of the dataframe\n",
    "df.describe()"
   ]
  },
  {
   "cell_type": "markdown",
   "id": "58380b93",
   "metadata": {},
   "source": [
    "## Outlier detection and removal using mean function"
   ]
  },
  {
   "cell_type": "code",
   "execution_count": null,
   "id": "f79eac6f",
   "metadata": {},
   "outputs": [],
   "source": [
    "# calculating mean and standard deviation\n",
    "mean_price_per_sqft=df[\"price_per_sqft\"].mean()\n",
    "mean_price_per_sqft"
   ]
  },
  {
   "cell_type": "code",
   "execution_count": null,
   "id": "e8a5fa3b",
   "metadata": {},
   "outputs": [],
   "source": [
    "std_dev_price_per_sqft=df[\"price_per_sqft\"].std()\n",
    "std_dev_price_per_sqft"
   ]
  },
  {
   "cell_type": "code",
   "execution_count": null,
   "id": "951ced17",
   "metadata": {},
   "outputs": [],
   "source": [
    "# define a threshold\n",
    "threshold=3\n"
   ]
  },
  {
   "cell_type": "code",
   "execution_count": null,
   "id": "48151a4e",
   "metadata": {},
   "outputs": [],
   "source": [
    "# detect outliers\n",
    "outliers_mean=df[(df[\"price_per_sqft\"]<mean_price_per_sqft-threshold*std_dev_price_per_sqft)|\n",
    "(df[\"price_per_sqft\"]>mean_price_per_sqft+threshold*std_dev_price_per_sqft)]"
   ]
  },
  {
   "cell_type": "code",
   "execution_count": null,
   "id": "1cf742ed",
   "metadata": {},
   "outputs": [],
   "source": [
    "# remove outliers\n",
    "df_cleaned_mean=df[~df[\"price_per_sqft\"].isin(outliers_mean[\"price_per_sqft\"])]"
   ]
  },
  {
   "cell_type": "code",
   "execution_count": null,
   "id": "7b19c1fc",
   "metadata": {},
   "outputs": [],
   "source": [
    "#print the number of outliers detected\n",
    "print(\"Number of outliers detected using mean function : \",len(outliers_mean))"
   ]
  },
  {
   "cell_type": "markdown",
   "id": "1ca03610",
   "metadata": {},
   "source": [
    "## Outlier detection and removal using percentile method"
   ]
  },
  {
   "cell_type": "code",
   "execution_count": null,
   "id": "fc6911ea",
   "metadata": {},
   "outputs": [],
   "source": [
    "# calculate lower and upper percentile values\n",
    "lower_percentile=df[\"price_per_sqft\"].quantile(0.05)\n",
    "lower_percentile\n"
   ]
  },
  {
   "cell_type": "code",
   "execution_count": null,
   "id": "cff8a25d",
   "metadata": {},
   "outputs": [],
   "source": [
    "upper_percentile=df[\"price_per_sqft\"].quantile(0.95)\n",
    "upper_percentile"
   ]
  },
  {
   "cell_type": "code",
   "execution_count": null,
   "id": "62a7d12c",
   "metadata": {},
   "outputs": [],
   "source": [
    "# detect outliers\n",
    "outliers_percentile=df[(df[\"price_per_sqft\"]<lower_percentile)|(df[\"price_per_sqft\"]>upper_percentile)]"
   ]
  },
  {
   "cell_type": "code",
   "execution_count": null,
   "id": "60871d8e",
   "metadata": {},
   "outputs": [],
   "source": [
    "# remove outliers\n",
    "df_cleaned_percentile=df[~df[\"price_per_sqft\"].isin(outliers_percentile[\"price_per_sqft\"])]"
   ]
  },
  {
   "cell_type": "code",
   "execution_count": null,
   "id": "1c2e0037",
   "metadata": {},
   "outputs": [],
   "source": [
    "# print number of outliers detected\n",
    "print(\"Number of outliers detected using percentile method : \",len(outliers_percentile))"
   ]
  },
  {
   "cell_type": "markdown",
   "id": "5dbebc2e",
   "metadata": {},
   "source": [
    "## Outlier detection and removal using IQR method"
   ]
  },
  {
   "cell_type": "code",
   "execution_count": null,
   "id": "453d426e",
   "metadata": {},
   "outputs": [],
   "source": [
    "# calculate the first quartile\n",
    "q1=df[\"price_per_sqft\"].quantile(0.25)\n",
    "q1"
   ]
  },
  {
   "cell_type": "code",
   "execution_count": null,
   "id": "e488bbe5",
   "metadata": {},
   "outputs": [],
   "source": [
    "# calculate the third quartile\n",
    "q3=df[\"price_per_sqft\"].quantile(0.75)\n",
    "q3"
   ]
  },
  {
   "cell_type": "code",
   "execution_count": null,
   "id": "fc3e8d42",
   "metadata": {},
   "outputs": [],
   "source": [
    "# calculate the inter quartile range\n",
    "IQR=q3-q1\n",
    "IQR"
   ]
  },
  {
   "cell_type": "code",
   "execution_count": null,
   "id": "8cb72eda",
   "metadata": {},
   "outputs": [],
   "source": [
    "# define lower and upper bounds for outlier detection\n",
    "lower_bound=q1-1.5*IQR\n",
    "lower_bound"
   ]
  },
  {
   "cell_type": "code",
   "execution_count": null,
   "id": "52868cdc",
   "metadata": {},
   "outputs": [],
   "source": [
    "upper_bound=q3+1.5*IQR\n",
    "upper_bound"
   ]
  },
  {
   "cell_type": "code",
   "execution_count": null,
   "id": "95605610",
   "metadata": {},
   "outputs": [],
   "source": [
    "# detect outliers\n",
    "outliers_IQR=df[(df[\"price_per_sqft\"]<lower_bound)|(df[\"price_per_sqft\"]>upper_bound)]"
   ]
  },
  {
   "cell_type": "code",
   "execution_count": null,
   "id": "b81e9f01",
   "metadata": {},
   "outputs": [],
   "source": [
    "# remove outliers\n",
    "df_cleaned_IQR=df[~df[\"price_per_sqft\"].isin(outliers_IQR[\"price_per_sqft\"])]"
   ]
  },
  {
   "cell_type": "code",
   "execution_count": null,
   "id": "a1b933ee",
   "metadata": {},
   "outputs": [],
   "source": [
    "# print number of outliers detected\n",
    "print(\"Number of outliers detected by IQR method : \",len(outliers_IQR))"
   ]
  },
  {
   "cell_type": "markdown",
   "id": "e5357cf7",
   "metadata": {},
   "source": [
    "## Outlier detection and removal using zscore method\n"
   ]
  },
  {
   "cell_type": "code",
   "execution_count": null,
   "id": "4a85a3b9",
   "metadata": {},
   "outputs": [],
   "source": [
    "from scipy.stats import zscore\n"
   ]
  },
  {
   "cell_type": "code",
   "execution_count": null,
   "id": "fb285771",
   "metadata": {},
   "outputs": [],
   "source": [
    "# calculate z scores\n",
    "df[\"z_score\"]=zscore(df[\"price_per_sqft\"])\n",
    "df.head()\n",
    "\n"
   ]
  },
  {
   "cell_type": "code",
   "execution_count": null,
   "id": "ed2e8c2e",
   "metadata": {},
   "outputs": [],
   "source": [
    "# define threshold\n",
    "threshold=3"
   ]
  },
  {
   "cell_type": "code",
   "execution_count": null,
   "id": "fd021534",
   "metadata": {},
   "outputs": [],
   "source": [
    "# outlier detection\n",
    "outliers_zscore=df[(df[\"price_per_sqft\"]>threshold)|(df[\"price_per_sqft\"]<-threshold)]"
   ]
  },
  {
   "cell_type": "code",
   "execution_count": null,
   "id": "8b9c19ca",
   "metadata": {},
   "outputs": [],
   "source": [
    "# remove outliers\n",
    "df_cleaned_zscore=df[~df[\"price_per_sqft\"].isin(outliers_zscore[\"price_per_sqft\"])]"
   ]
  },
  {
   "cell_type": "code",
   "execution_count": null,
   "id": "a3ffdd1b",
   "metadata": {},
   "outputs": [],
   "source": [
    "# print the number of outliers detected\n",
    "print(\"Number of outliers detected using Zscore method : \",len(outliers_zscore))"
   ]
  },
  {
   "cell_type": "markdown",
   "id": "f2089ecd",
   "metadata": {},
   "source": [
    "## Boxplot for all numeric columns"
   ]
  },
  {
   "cell_type": "code",
   "execution_count": null,
   "id": "8b922135",
   "metadata": {},
   "outputs": [],
   "source": [
    "df.boxplot(figsize=(12, 8))\n",
    "plt.title('Boxplot for Numeric Columns')\n",
    "plt.xticks(rotation=45)\n",
    "plt.show()"
   ]
  },
  {
   "cell_type": "markdown",
   "id": "2c69fbd1",
   "metadata": {},
   "source": [
    "## Histplot for price_per_sqft column"
   ]
  },
  {
   "cell_type": "code",
   "execution_count": null,
   "id": "fbbe9217",
   "metadata": {},
   "outputs": [],
   "source": [
    "# Create a histogram plot for the \"price per sqft\" column\n",
    "plt.figure(figsize=(8, 6))\n",
    "sns.histplot(df['price_per_sqft'],kde=True)\n",
    "plt.title('Histogram of Price per Sqft')\n",
    "plt.xlabel('Price per Sqft')\n",
    "plt.ylabel('Frequency')\n",
    "plt.show()"
   ]
  },
  {
   "cell_type": "markdown",
   "id": "1b948324",
   "metadata": {},
   "source": [
    "## Check correlation between all numeric columns and plot heatmap"
   ]
  },
  {
   "cell_type": "code",
   "execution_count": null,
   "id": "bcc4e1fb",
   "metadata": {},
   "outputs": [],
   "source": [
    "# Select only numeric columns\n",
    "numeric_columns = df.select_dtypes(include=['number'])\n",
    "\n",
    "# Calculate the correlation matrix\n",
    "correlation_matrix = numeric_columns.corr()\n",
    "\n",
    "# Plot the heatmap\n",
    "plt.figure(figsize=(10, 8))\n",
    "sns.heatmap(correlation_matrix, annot=True, cmap='coolwarm', fmt=\".2f\", square=True)\n",
    "plt.title('Correlation Heatmap of Numerical Columns')\n",
    "plt.show()"
   ]
  },
  {
   "cell_type": "markdown",
   "id": "eb015f77",
   "metadata": {},
   "source": [
    "## Scatterplot between variables to check correltaion between them"
   ]
  },
  {
   "cell_type": "code",
   "execution_count": null,
   "id": "ef1b0bd8",
   "metadata": {},
   "outputs": [],
   "source": [
    "# Create a pairplot\n",
    "sns.pairplot(df, diag_kind='kde')\n",
    "plt.suptitle('Pairplot of Numerical Columns')\n",
    "plt.show()"
   ]
  },
  {
   "cell_type": "code",
   "execution_count": null,
   "id": "00b3a8cd",
   "metadata": {},
   "outputs": [],
   "source": []
  },
  {
   "cell_type": "code",
   "execution_count": null,
   "id": "502ac04e",
   "metadata": {},
   "outputs": [],
   "source": []
  },
  {
   "cell_type": "code",
   "execution_count": null,
   "id": "1388eeee",
   "metadata": {},
   "outputs": [],
   "source": []
  }
 ],
 "metadata": {
  "kernelspec": {
   "display_name": "Python 3 (ipykernel)",
   "language": "python",
   "name": "python3"
  },
  "language_info": {
   "codemirror_mode": {
    "name": "ipython",
    "version": 3
   },
   "file_extension": ".py",
   "mimetype": "text/x-python",
   "name": "python",
   "nbconvert_exporter": "python",
   "pygments_lexer": "ipython3",
   "version": "3.9.13"
  }
 },
 "nbformat": 4,
 "nbformat_minor": 5
}
