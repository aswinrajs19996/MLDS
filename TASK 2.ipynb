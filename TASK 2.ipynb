{
 "cells": [
  {
   "cell_type": "markdown",
   "id": "05b310d6",
   "metadata": {},
   "source": [
    "\n",
    "#### Suppose a child psychologist claims that the average time working mothers spend talking to their children is at least 11 minutes per day. You conduct a random sample of 1000 working mothers and find they spend an average of 11.5 minutes per day talking with their children. Assume prior research suggests the population standard deviation is 2.3 minutes.Conduct a test with a level of significance of alpha = 0.05."
   ]
  },
  {
   "cell_type": "code",
   "execution_count": 1,
   "id": "45d29e49",
   "metadata": {},
   "outputs": [],
   "source": [
    "import scipy.stats as stats\n"
   ]
  },
  {
   "cell_type": "code",
   "execution_count": 2,
   "id": "5cdb20bb",
   "metadata": {},
   "outputs": [],
   "source": [
    "population_mean=11  # population mean under null hypothesis\n",
    "sample_size=1000    \n",
    "sample_mean=11.5\n",
    "population_std=2.3  # standard deviation of population\n",
    "alpha=0.05          # significance level"
   ]
  },
  {
   "cell_type": "code",
   "execution_count": 3,
   "id": "daf5535c",
   "metadata": {},
   "outputs": [],
   "source": [
    "# calculate z test statistics\n",
    "z_score=(sample_mean-population_mean)/(population_std/(sample_size**0.5))\n"
   ]
  },
  {
   "cell_type": "code",
   "execution_count": 4,
   "id": "3dc799ec",
   "metadata": {},
   "outputs": [],
   "source": [
    " #calculate the critical value\n",
    "critical_value=stats.norm.ppf(1-alpha)\n"
   ]
  },
  {
   "cell_type": "code",
   "execution_count": 5,
   "id": "25b03048",
   "metadata": {},
   "outputs": [
    {
     "name": "stdout",
     "output_type": "stream",
     "text": [
      "Z_score :  6.874516652539955\n"
     ]
    }
   ],
   "source": [
    "# print the z score and critical value\n",
    "print(\"Z_score : \",z_score)\n",
    "Z_score :  6.874516652539955"
   ]
  },
  {
   "cell_type": "code",
   "execution_count": 6,
   "id": "fa7c6153",
   "metadata": {},
   "outputs": [
    {
     "name": "stdout",
     "output_type": "stream",
     "text": [
      "Critical_value : 1.6448536269514722\n"
     ]
    }
   ],
   "source": [
    "print(\"Critical_value :\",critical_value)\n",
    "Critical_value : 1.6448536269514722"
   ]
  },
  {
   "cell_type": "code",
   "execution_count": 9,
   "id": "36c10b3c",
   "metadata": {},
   "outputs": [
    {
     "name": "stdout",
     "output_type": "stream",
     "text": [
      "Reject null hypothesis\n"
     ]
    }
   ],
   "source": [
    "# compare the z score with the critical value and make a decision\n",
    "if z_score>critical_value:\n",
    "    print(\"Reject null hypothesis\")\n",
    "else:\n",
    "    print(\"Fail to reject null hypothesis\")"
   ]
  },
  {
   "cell_type": "markdown",
   "id": "0911cf34",
   "metadata": {},
   "source": [
    "#### A coffee shop claims that their average wait time for customers is less than 5 minutes. To test this claim, a sample of 40 customers is taken, and their wait times are recorded. The sample mean wait time is found to be 4.6 minutes with a standard deviation of 0.8 minutes. Perform a hypothesis test at a significance level of 0.05 and determine whether there is enough evidence to support the coffee shop's claim."
   ]
  },
  {
   "cell_type": "code",
   "execution_count": 10,
   "id": "ce29c79b",
   "metadata": {},
   "outputs": [],
   "source": [
    "import scipy.stats as stats"
   ]
  },
  {
   "cell_type": "code",
   "execution_count": 11,
   "id": "e83a3a32",
   "metadata": {},
   "outputs": [],
   "source": [
    "population_mean=5   # population mean under null hypothesis\n",
    "sample_size=40\n",
    "sample_mean=4.6\n",
    "population_std=0.8  # standard deviation of population\n",
    "alpha=0.05           # significance level"
   ]
  },
  {
   "cell_type": "code",
   "execution_count": 12,
   "id": "623eb5a6",
   "metadata": {},
   "outputs": [],
   "source": [
    "# calculate the z test statistics\n",
    "z_score=(sample_mean-population_mean)/(population_std/(sample_size**0.05))"
   ]
  },
  {
   "cell_type": "code",
   "execution_count": 13,
   "id": "4e766afc",
   "metadata": {},
   "outputs": [
    {
     "name": "stdout",
     "output_type": "stream",
     "text": [
      "Z_score :  -0.601274801898418\n"
     ]
    }
   ],
   "source": [
    "# print the z_score and critical value\n",
    "print(\"Z_score : \",z_score)"
   ]
  },
  {
   "cell_type": "code",
   "execution_count": 14,
   "id": "003629e3",
   "metadata": {},
   "outputs": [
    {
     "name": "stdout",
     "output_type": "stream",
     "text": [
      "Critical_value :  1.6448536269514722\n"
     ]
    }
   ],
   "source": [
    "print(\"Critical_value : \",critical_value)\n",
    "Critical_value :  1.6448536269514722"
   ]
  },
  {
   "cell_type": "code",
   "execution_count": 15,
   "id": "8199b17b",
   "metadata": {},
   "outputs": [
    {
     "name": "stdout",
     "output_type": "stream",
     "text": [
      "Reject null hypothesis\n"
     ]
    }
   ],
   "source": [
    "# compare z score with critical value and make a decision\n",
    "if z_score<critical_value:\n",
    "    print(\"Reject null hypothesis\")\n",
    "else:\n",
    "    print(\"Fail to reject null hypothesis\")\n"
   ]
  },
  {
   "cell_type": "code",
   "execution_count": null,
   "id": "10067167",
   "metadata": {},
   "outputs": [],
   "source": []
  }
 ],
 "metadata": {
  "kernelspec": {
   "display_name": "Python 3 (ipykernel)",
   "language": "python",
   "name": "python3"
  },
  "language_info": {
   "codemirror_mode": {
    "name": "ipython",
    "version": 3
   },
   "file_extension": ".py",
   "mimetype": "text/x-python",
   "name": "python",
   "nbconvert_exporter": "python",
   "pygments_lexer": "ipython3",
   "version": "3.9.13"
  }
 },
 "nbformat": 4,
 "nbformat_minor": 5
}
